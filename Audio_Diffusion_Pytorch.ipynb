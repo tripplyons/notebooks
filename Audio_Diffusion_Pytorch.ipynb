{
  "nbformat": 4,
  "nbformat_minor": 0,
  "metadata": {
    "colab": {
      "private_outputs": true,
      "provenance": [],
      "collapsed_sections": []
    },
    "kernelspec": {
      "name": "python3",
      "display_name": "Python 3"
    },
    "language_info": {
      "name": "python"
    },
    "accelerator": "GPU"
  },
  "cells": [
    {
      "cell_type": "code",
      "execution_count": null,
      "metadata": {
        "id": "w3TP30fHwon9",
        "cellView": "form"
      },
      "outputs": [],
      "source": [
        "#@title Install and setup\n",
        "!git clone https://github.com/archinetai/audio-diffusion-pytorch-trainer\n",
        "%cd audio-diffusion-pytorch-trainer\n",
        "!pip install -r requirements.txt\n",
        "%env DIR_LOGS=/logs\n",
        "%env DIR_DATA=/data"
      ]
    },
    {
      "cell_type": "code",
      "source": [
        "#@title WANDB settings\n",
        "\n",
        "# Add your information\n",
        "%env WANDB_PROJECT=audio-diffusion-colab\n",
        "%env WANDB_ENTITY=username\n",
        "# find this at https://wandb.ai/settings\n",
        "%env WANDB_API_KEY="
      ],
      "metadata": {
        "id": "HK7-rfeMyD1W",
        "cellView": "form"
      },
      "execution_count": null,
      "outputs": []
    },
    {
      "cell_type": "code",
      "source": [
        "#@title Train\n",
        "!python train.py exp=base_test trainer.gpus=1"
      ],
      "metadata": {
        "id": "PnPuQ07JxIuh",
        "cellView": "form"
      },
      "execution_count": null,
      "outputs": []
    },
    {
      "cell_type": "code",
      "source": [
        "#@title Resume training from a checkpoint\n",
        "\n",
        "!python train.py exp=base_test +ckpt=/logs/ckpts/_______COMPLETE_YOUR_PATH_HERE_______"
      ],
      "metadata": {
        "id": "NlBZsvpTxjki"
      },
      "execution_count": null,
      "outputs": []
    }
  ]
}